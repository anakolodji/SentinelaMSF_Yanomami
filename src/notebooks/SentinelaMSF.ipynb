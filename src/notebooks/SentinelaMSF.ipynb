{
 "cells": [
  {
   "cell_type": "markdown",
   "metadata": {},
   "source": [
    "# Aplicação Integrada de Monitoramento de Enchentes e Previsão de Surto de Malária - SentinelaMSF\n",
    "\n",
    "Este notebook integra o fluxo de exploração/análise de dados e o pipeline de machine learning para previsão de surtos de malária, utilizando dados ambientais, históricos e de enchentes.  \n",
    "**Futuras expansões** e melhorias estão detalhadas ao final do notebook.\n",
    "\n",
    "---\n",
    "\n",
    "## Importação de Bibliotecas e Carregamento dos Dados\n",
    "\n",
    "Integra dados de malária, enchentes e clima já tratados no notebook de exploração."
   ]
  },
  {
   "cell_type": "code",
   "execution_count": null,
   "metadata": {},
   "outputs": [],
   "source": [
    "import pandas as pd\n",
    "import numpy as np\n",
    "import matplotlib.pyplot as plt\n",
    "import seaborn as sns\n",
    "\n",
    "from sklearn.model_selection import train_test_split\n",
    "from sklearn.ensemble import RandomForestClassifier\n",
    "from sklearn.linear_model import LogisticRegression\n",
    "from sklearn.neural_network import MLPClassifier\n",
    "from sklearn.metrics import classification_report, confusion_matrix, roc_auc_score\n",
    "from sklearn.preprocessing import StandardScaler\n",
    "\n",
    "import joblib\n",
    "import os"
   ]
  },
  {
   "cell_type": "markdown",
   "metadata": {},
   "source": [
    "## Carregamento e Integração dos Dados\n"
   ]
  },
  {
   "cell_type": "code",
   "execution_count": null,
   "metadata": {},
   "outputs": [],
   "source": [
    "malaria_df = pd.read_csv('data/processed/malaria_tratada.csv')\n",
    "enchentes_df = pd.read_csv('data/processed/enchentes_tratada.csv')\n",
    "clima_df = pd.read_csv('data/processed/clima_tratado.csv')\n",
    "\n",
    "df = malaria_df.merge(\n",
    "    enchentes_df[['municipio', 'data', 'risco_enchente', 'dias_alagado']],\n",
    "    on=['municipio', 'data'],\n",
    "    how='left'\n",
    ").merge(\n",
    "    clima_df[['municipio', 'data', 'chuva_mm', 'temperatura_media', 'umidade_relativa']],\n",
    "    on=['municipio', 'data'],\n",
    "    how='left'\n",
    ")\n",
    "\n",
    "df['risco_enchente'] = df['risco_enchente'].fillna(0)\n",
    "df['dias_alagado'] = df['dias_alagado'].fillna(0)\n",
    "df['chuva_mm'] = df['chuva_mm'].fillna(df['chuva_mm'].median())\n",
    "df['temperatura_media'] = df['temperatura_media'].fillna(df['temperatura_media'].median())\n",
    "df['umidade_relativa'] = df['umidade_relativa'].fillna(df['umidade_relativa'].median())"
   ]
  },
  {
   "cell_type": "markdown",
   "metadata": {},
   "source": [
    "\n",
    "## Definição do Alvo e Seleção de Features\n",
    "\n",
    "Define como alvo a ocorrência de surto de malária (casos acima do percentil 75)."
   ]
  },
  {
   "cell_type": "code",
   "execution_count": null,
   "metadata": {},
   "outputs": [],
   "source": [
    "limiar = df['casos'].quantile(0.75)\n",
    "df['surto_malaria'] = (df['casos'] > limiar).astype(int)\n",
    "\n",
    "features = [\n",
    "    'risco_enchente',\n",
    "    'chuva_mm',\n",
    "    'temperatura_media',\n",
    "    'umidade_relativa'\n",
    "]\n",
    "X = df[features]\n",
    "y = df['surto_malaria']"
   ]
  },
  {
   "cell_type": "markdown",
   "metadata": {},
   "source": [
    "---\n",
    "\n",
    "## Divisão Treino/Teste e Pré-processamento\n",
    "\n",
    "Normaliza as features numéricas e prepara para o treino do modelo."
   ]
  },
  {
   "cell_type": "code",
   "execution_count": null,
   "metadata": {},
   "outputs": [],
   "source": [
    "X_train, X_test, y_train, y_test = train_test_split(\n",
    "    X, y, test_size=0.2, random_state=42, stratify=y\n",
    ")\n",
    "\n",
    "scaler = StandardScaler()\n",
    "X_train_scaled = scaler.fit_transform(X_train)\n",
    "X_test_scaled = scaler.transform(X_test)"
   ]
  },
  {
   "cell_type": "markdown",
   "metadata": {},
   "source": [
    "\n",
    "# Treinamento e Avaliação do Modelo\n",
    "\n",
    "Treina um RandomForest e avalia o desempenho."
   ]
  },
  {
   "cell_type": "code",
   "execution_count": null,
   "metadata": {},
   "outputs": [],
   "source": [
    "models = {\n",
    "    \"Random Forest\": RandomForestClassifier(n_estimators=100, random_state=42),\n",
    "    \"Logistic Regression\": LogisticRegression(max_iter=1000, random_state=42),\n",
    "    \"MLP (Neural Net)\": MLPClassifier(hidden_layer_sizes=(32,16), max_iter=500, random_state=42)\n",
    "}\n",
    "\n",
    "results = {}\n",
    "for name, model in models.items():\n",
    "    model.fit(X_train_scaled, y_train)\n",
    "    y_pred = model.predict(X_test_scaled)\n",
    "    y_proba = model.predict_proba(X_test_scaled)[:, 1]\n",
    "    results[name] = {\n",
    "        \"report\": classification_report(y_test, y_pred, output_dict=True),\n",
    "        \"roc_auc\": roc_auc_score(y_test, y_proba),\n",
    "        \"model\": model\n",
    "    }\n",
    "    print(f\"\\n=== {name} ===\")\n",
    "    print(classification_report(y_test, y_pred))\n",
    "    print(\"ROC AUC:\", roc_auc_score(y_test, y_proba))"
   ]
  },
  {
   "cell_type": "markdown",
   "metadata": {},
   "source": [
    "## Lógica Baseada em Regras (Baseline)\n",
    "\n",
    "Regras simples baseadas em conhecimento:\n",
    "- Se área ficou alagada por mais de 5 dias **e** risco de enchente presente **e** chuva acima da mediana, risco de surto é ALTO.\n",
    "- Caso contrário, risco é BAIXO/MÉDIO.\n",
    "\n",
    "Futuramente pretendo ajustar pelo indice de percentil pluviometrico."
   ]
  },
  {
   "cell_type": "code",
   "execution_count": null,
   "metadata": {},
   "outputs": [],
   "source": [
    "def regra_baseline(row):\n",
    "    if (row['dias_alagado'] > 5) and (row['risco_enchente'] == 1) and (row['chuva_mm'] > df['chuva_mm'].median()):\n",
    "        return 2  # ALTO\n",
    "    elif (row['dias_alagado'] > 2) and (row['risco_enchente'] == 1):\n",
    "        return 1  # MÉDIO\n",
    "    else:\n",
    "        return 0  # BAIXO\n",
    "\n",
    "df['risco_regra'] = df.apply(regra_baseline, axis=1)\n",
    "print(df['risco_regra'].value_counts())"
   ]
  },
  {
   "cell_type": "markdown",
   "metadata": {},
   "source": [
    "## Importância das Variáveis (Random Forest)"
   ]
  },
  {
   "cell_type": "code",
   "execution_count": null,
   "metadata": {},
   "outputs": [],
   "source": [
    "importances = pd.Series(results['Random Forest']['model'].feature_importances_, index=features)\n",
    "importances.sort_values().plot(kind='barh')\n",
    "plt.title('Importância das Variáveis')\n",
    "plt.show()"
   ]
  },
  {
   "cell_type": "markdown",
   "metadata": {},
   "source": [
    "\n",
    "## Salvando Modelos e Scaler"
   ]
  },
  {
   "cell_type": "code",
   "execution_count": null,
   "metadata": {},
   "outputs": [],
   "source": [
    "os.makedirs('models', exist_ok=True)\n",
    "for name, res in results.items():\n",
    "    joblib.dump(res['model'], f'models/modelo_{name.replace(\" \", \"_\").lower()}.pkl')\n",
    "joblib.dump(scaler, 'models/scaler_surto_malaria.pkl')"
   ]
  },
  {
   "cell_type": "markdown",
   "metadata": {},
   "source": [
    "## Interface Streamlit para Visualização e Alerta\n",
    "\n",
    "Crie um arquivo `app.py` com o seguinte conteúdo para rodar o painel interativo:\n",
    "\n",
    "**Para rodar:**\n",
    "```sh\n",
    "streamlit run app.py"
   ]
  },
  {
   "cell_type": "markdown",
   "metadata": {},
   "source": [
    "# Expansões Futuras\n",
    "\n",
    "- Automatizar processamento de imagens de satélite para detecção de áreas alagadas (NDWI, ML).\n",
    "- Incluir variáveis ambientais adicionais e relações espaciais.\n",
    "- Aprimorar lógica baseada em regras com conhecimento de especialistas.\n",
    "- Integrar mapas interativos com localização das áreas prioritárias.\n"
   ]
  },
  {
   "cell_type": "markdown",
   "metadata": {},
   "source": [
    "## Conclusão\n",
    "\n",
    "Este notebook demonstrou a integração dos principais dados do projeto SentinelaMSF, permitindo análises espaciais e temporais para apoio à atuação do MSF na região Yanomami.\n"
   ]
  }
 ],
 "metadata": {
  "colab": {
   "authorship_tag": "ABX9TyPdwaMWjO3kCZqBo4NGRUep",
   "provenance": [],
   "toc_visible": true
  },
  "kernelspec": {
   "display_name": "Python 3",
   "name": "python3"
  },
  "language_info": {
   "name": "python"
  }
 },
 "nbformat": 4,
 "nbformat_minor": 0
}
