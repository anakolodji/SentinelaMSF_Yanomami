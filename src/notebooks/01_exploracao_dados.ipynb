{
 "cells": [
  {
   "cell_type": "markdown",
   "metadata": {},
   "source": [
    "# 📊 Exploração Inicial dos Dados - Projeto SentinelaMSF Yanomami\n",
    "\n",
    "Este notebook apresenta a exploração inicial dos dados utilizados no monitoramento de enchentes e riscos de malária na região Yanomami.\n",
    "\n",
    "---\n",
    "\n",
    "## Objetivos\n",
    "\n",
    "- Carregar os dados históricos de malária, enchentes e alertas climáticos.\n",
    "- Realizar uma análise exploratória dos principais indicadores.\n",
    "- Visualizar padrões espaciais e temporais."
   ]
  },
  {
   "cell_type": "code",
   "execution_count": null,
   "metadata": {},
   "outputs": [],
   "source": [
    "# Importação das Bibliotecas\n",
    "import pandas as pd\n",
    "import matplotlib.pyplot as plt\n",
    "import seaborn as sns\n",
    "\n",
    "# Para visualização em mapas \n",
    "import folium"
   ]
  },
  {
   "cell_type": "markdown",
   "metadata": {},
   "source": [
    "## Carregamento dos Dados\n",
    "\n",
    "Nesta etapa, vamos carregar os arquivos CSV contendo os dados históricos de malária"
   ]
  },
  {
   "cell_type": "code",
   "execution_count": null,
   "metadata": {},
   "outputs": [],
   "source": [
    "# Carregar dados de malária\n",
    "malaria_df = pd.read_csv('/content/serie_historica_malaria_2013_2023.csv')\n"
   ]
  },
  {
   "cell_type": "markdown",
   "metadata": {},
   "source": [
    "## Leitura e Visualização dos Dados de Vulnerabilidade a Inundações\n",
    "\n",
    "Vamos carregar e visualizar o shapefile `Brasil_vulnerabilidade_inundacoes`, extra´dos do ANA que contém informações geográficas sobre áreas vulneráveis a enchentes no Brasil. Esses dados são fundamentais para analisar a sobreposição entre regiões de risco de inundação e casos de malária."
   ]
  },
  {
   "cell_type": "code",
   "execution_count": null,
   "metadata": {},
   "outputs": [],
   "source": [
    "# Leitura do shapefile de vulnerabilidade a inundações\n",
    "import geopandas as gpd\n",
    "\n",
    "# Caminho para o arquivo shapefile (.shp)\n",
    "shapefile_path = 'src/data/raw/floods/floods/Brasil_vulnerabilidade_inundacoes/Brasil_vulnerabilidade_inundacoes.shp'\n",
    "\n",
    "# Carregar o shapefile como GeoDataFrame\n",
    "gdf = gpd.read_file(shapefile_path)\n",
    "gdf.head()"
   ]
  },
  {
   "cell_type": "markdown",
   "metadata": {},
   "source": [
    "### Visualização Interativa das Áreas Vulneráveis\n",
    "\n",
    "Podemos visualizar as áreas vulneráveis a inundações em um mapa interativo usando o método `.explore()` do GeoPandas."
   ]
  },
  {
   "cell_type": "code",
   "execution_count": null,
   "metadata": {},
   "outputs": [],
   "source": [
    "# Visualização interativa das áreas vulneráveis\n",
    "gdf.explore()"
   ]
  },
  {
   "cell_type": "markdown",
   "metadata": {},
   "source": [
    "## Destaque das Áreas de Roraima e Amazonas\n",
    "\n",
    "Vamos filtrar e visualizar apenas as regiões de vulnerabilidade a inundações localizadas nos estados de Roraima (RR) e Amazonas (AM), onde se encontra o território Yanomami."
   ]
  },
  {
   "cell_type": "code",
   "execution_count": null,
   "metadata": {},
   "outputs": [],
   "source": [
    "# Filtrar e visualizar áreas de Roraima e Amazonas\n",
    "\n",
    "# Verifique o nome da coluna que indica o estado. Exemplos comuns: 'UF', 'uf', 'estado', 'NM_ESTADO'\n",
    "print(gdf.columns)\n",
    "\n",
    "# Supondo que a coluna se chame 'UF':\n",
    "gdf_rr_am = gdf[gdf['UF'].isin(['RR', 'AM'])]\n",
    "\n",
    "# Visualização interativa apenas dessas áreas\n",
    "gdf_rr_am.explore(\n",
    "    style_kwds={'fillColor': 'red', 'color': 'black', 'weight': 1, 'fillOpacity': 0.5},\n",
    "    tooltip=gdf_rr_am.columns.tolist(),\n",
    "    popup=True\n",
    ")"
   ]
  },
  {
   "cell_type": "markdown",
   "metadata": {},
   "source": [
    "## Consulta e Armazenamento de Alertas Climáticos (WeatherAPI)\n",
    "\n",
    "As células abaixo permitem consultar alertas climáticos em tempo real (opcional), salvar os resultados em arquivo e carregar os dados salvos para garantir reprodutibilidade das análises."
   ]
  },
  {
   "cell_type": "code",
   "execution_count": null,
   "metadata": {},
   "outputs": [],
   "source": [
    "# Consulta em tempo real à WeatherAPI (opcional - execute apenas se quiser dados mais recentes)\n",
    "import requests\n",
    "import pandas as pd\n",
    "\n",
    "API_KEY = \"a3ea445d76244b898bf13153250606\"  # Substitua por variável de ambiente se preferir\n",
    "lat, lon = -0.5, -64.5  # Aproximado para região Yanomami\n",
    "\n",
    "url = f\"http://api.weatherapi.com/v1/alerts.json?key={API_KEY}&q={lat},{lon}\"\n",
    "response = requests.get(url)\n",
    "data = response.json()\n",
    "\n",
    "# Extrair alertas\n",
    "if 'alerts' in data and 'alert' in data['alerts']:\n",
    "    alertas = data['alerts']['alert']\n",
    "    if alertas:\n",
    "        df_alertas = pd.DataFrame(alertas)\n",
    "        display(df_alertas)\n",
    "    else:\n",
    "        print(\"Nenhum alerta ativo para esta região.\")\n",
    "else:\n",
    "    print(\"Nenhum alerta retornado pela API.\")"
   ]
  },
  {
   "cell_type": "code",
   "execution_count": null,
   "metadata": {},
   "outputs": [],
   "source": [
    "# Salvar alertas em arquivo CSV/JSON\n",
    "if 'df_alertas' in locals():\n",
    "    df_alertas.to_csv('alertas_climaticos_atuais.csv', index=False)\n",
    "    df_alertas.to_json('alertas_climaticos_atuais.json', orient='records', force_ascii=False)\n",
    "    print(\"Alertas salvos em 'alertas_climaticos_atuais.csv' e 'alertas_climaticos_atuais.json'.\")\n",
    "else:\n",
    "    print(\"Nenhum alerta para salvar. Execute a célula de consulta primeiro se desejar dados atualizados.\")"
   ]
  },
  {
   "cell_type": "code",
   "execution_count": null,
   "metadata": {},
   "outputs": [],
   "source": [
    "# Carregar alertas salvos de arquivo (reprodutível)\n",
    "import pandas as pd\n",
    "\n",
    "try:\n",
    "    df_alertas = pd.read_csv('alertas_climaticos_atuais.csv')\n",
    "    display(df_alertas)\n",
    "except FileNotFoundError:\n",
    "    print(\"Arquivo de alertas não encontrado. Execute a célula de consulta e salvamento primeiro, se necessário.\")"
   ]
  },
  {
   "cell_type": "markdown",
   "metadata": {},
   "source": [
    "## Visualização Inicial dos Dados\n",
    "\n",
    "Vamos inspecionar as primeiras linhas de cada conjunto de dados para entender sua estrutura."
   ]
  },
  {
   "cell_type": "code",
   "execution_count": null,
   "metadata": {},
   "outputs": [],
   "source": [
    "# Visualizar as primeiras linhas dos dados\n",
    "display(malaria_df.head())\n",
    "display(enchentes_df.head())\n",
    "display(alertas_df.head())"
   ]
  },
  {
   "cell_type": "markdown",
   "metadata": {},
   "source": [
    "## Análise Exploratória\n",
    "\n",
    "Aqui, vamos analisar a distribuição dos casos de malária ao longo do tempo, a frequência de enchentes e os principais tipos de alertas climáticos."
   ]
  },
  {
   "cell_type": "code",
   "execution_count": null,
   "metadata": {},
   "outputs": [],
   "source": [
    "# Evolução dos casos de malária\n",
    "malaria_df['data'] = pd.to_datetime(malaria_df['data'])\n",
    "malaria_agg = malaria_df.groupby('data')['casos'].sum()\n",
    "malaria_agg.plot(figsize=(12,6), title='Evolução dos casos de malária')\n",
    "plt.xlabel('Data')\n",
    "plt.ylabel('Casos')\n",
    "plt.show()"
   ]
  },
  {
   "cell_type": "code",
   "execution_count": null,
   "metadata": {},
   "outputs": [],
   "source": [
    "# Frequência de enchentes por município\n",
    "enchentes_df['data'] = pd.to_datetime(enchentes_df['data'])\n",
    "floods_count = enchentes_df['municipio'].value_counts()\n",
    "sns.barplot(x=floods_count.values, y=floods_count.index)\n",
    "plt.title('Frequência de enchentes detectadas por município')\n",
    "plt.xlabel('Número de enchentes')\n",
    "plt.ylabel('Município')\n",
    "plt.show()"
   ]
  },
  {
   "cell_type": "code",
   "execution_count": null,
   "metadata": {},
   "outputs": [],
   "source": [
    "# Tipos de alertas climáticos mais comuns\n",
    "alert_types = alertas_df['tipo'].value_counts()\n",
    "sns.barplot(x=alert_types.values, y=alert_types.index)\n",
    "plt.title('Tipos de alertas climáticos mais frequentes')\n",
    "plt.xlabel('Quantidade')\n",
    "plt.ylabel('Tipo de Alerta')\n",
    "plt.show()"
   ]
  },
  {
   "cell_type": "markdown",
   "metadata": {},
   "source": [
    "## Visualização Espacial \n",
    "\n",
    "Visualizar a localização das enchentes em um mapa interativo."
   ]
  },
  {
   "cell_type": "code",
   "execution_count": null,
   "metadata": {},
   "outputs": [],
   "source": [
    "# Mapa interativo das enchentes detectadas (ajuste lat/lon conforme seus dados)\n",
    "m = folium.Map(location=[-3.5, -63.0], zoom_start=5)\n",
    "for _, row in enchentes_df.iterrows():\n",
    "    folium.CircleMarker(\n",
    "        location=[row['latitude'], row['longitude']],\n",
    "        radius=6,\n",
    "        popup=f\"{row['municipio']} - {row['data']}\",\n",
    "        color=\"blue\",\n",
    "        fill=True,\n",
    "        fill_color=\"blue\"\n",
    "    ).add_to(m)\n",
    "m"
   ]
  },
  {
   "cell_type": "markdown",
   "metadata": {},
   "source": [
    "## Conclusão\n",
    "\n",
    "Esta análise inicial permite identificar tendências e padrões importantes para o desenvolvimento dos próximos módulos do projeto, como o modelo preditivo e as visualizações em tempo real na plataforma Streamlit."
   ]
  }
 ],
 "metadata": {
  "kernelspec": {
   "display_name": "\"Python/Mu (mu_venv-38-20240905-221545)\"",
   "language": "python",
   "name": "mu_venv-38-20240905-221545"
  }
 },
 "nbformat": 4,
 "nbformat_minor": 2
}
