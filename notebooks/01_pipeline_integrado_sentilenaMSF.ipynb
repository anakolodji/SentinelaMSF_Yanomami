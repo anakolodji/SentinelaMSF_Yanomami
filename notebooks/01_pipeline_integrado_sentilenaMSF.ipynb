{
 "cells": [
  {
   "cell_type": "markdown",
   "metadata": {},
   "source": [
    "# Pipeline Integrado SentinelaMSF\n",
    "\n",
    "Este notebook consome dados diretamente do banco SQLite (`sentinela.db`), alimentado pelos scripts Python da aplicação:\n",
    "\n",
    "- `src/sentinela/ingest_malaria.py`: ingestão de casos históricos de malária.\n",
    "- `src/sentinela/ingest_predicoes.py`: ingestão das predições de risco (ML).\n",
    "- `src/sentinela/ingest_weather.py`: ingestão de alertas climáticos.\n",
    "- `src/sentinela/ingest_enchentes.py`: ingestão de enchentes detectadas.\n",
    "\n",
    "As tabelas lidas são:\n",
    "- `malaria_casos`\n",
    "- `enchentes_detectadas`\n",
    "- `alertas_inmet`\n",
    "- `predicoes_risco`\n",
    "\n",
    "Isso garante que toda análise e modelagem esteja sempre alinhada com os dados mais recentes e o fluxo real da aplicação.\n"
   ]
  },
  {
   "cell_type": "code",
   "execution_count": null,
   "metadata": {},
   "outputs": [],
   "source": [
    "import pandas as pd\n",
    "import sqlite3\n",
    "\n",
    "# Conexão com o banco\n",
    "conn = sqlite3.connect('../sentinela.db')  # Ajuste o caminho se necessário\n",
    "\n",
    "# Leitura das tabelas\n",
    "malaria_df = pd.read_sql_query('SELECT * FROM malaria_casos', conn)\n",
    "enchentes_df = pd.read_sql_query('SELECT * FROM enchentes_detectadas', conn)\n",
    "alertas_df = pd.read_sql_query('SELECT * FROM alertas_inmet', conn)\n",
    "predicoes_df = pd.read_sql_query('SELECT * FROM predicoes_risco', conn)\n"
   ]
  },
  {
   "cell_type": "code",
   "execution_count": null,
   "metadata": {},
   "outputs": [],
   "source": [
    "# Conversão de datas\n",
    "malaria_df['data'] = pd.to_datetime(malaria_df['data'])\n",
    "enchentes_df['data'] = pd.to_datetime(enchentes_df['data'])\n",
    "alertas_df['data_alerta'] = pd.to_datetime(alertas_df['data_alerta'])\n",
    "predicoes_df['data_predicao'] = pd.to_datetime(predicoes_df['data_predicao'])\n"
   ]
  },
  {
   "cell_type": "markdown",
   "metadata": {},
   "source": [
    "## Visualização rápida dos dados carregados\n"
   ]
  },
  {
   "cell_type": "code",
   "execution_count": null,
   "metadata": {},
   "outputs": [],
   "source": [
    "display(malaria_df.head())\n",
    "display(enchentes_df.head())\n",
    "display(alertas_df.head())\n",
    "display(predicoes_df.head())\n"
   ]
  },
  {
   "cell_type": "markdown",
   "metadata": {},
   "source": [
    "## Integração dos dados para análise\n",
    "\n",
    "Aqui unimos os dados de malária, enchentes e predições para análise conjunta por município e data.\n"
   ]
  },
  {
   "cell_type": "code",
   "execution_count": null,
   "metadata": {},
   "outputs": [],
   "source": [
    "# Exemplo: merge entre malária e enchentes\n",
    "df = malaria_df.merge(\n",
    "    enchentes_df[['municipio', 'data', 'intensidade']],\n",
    "    on=['municipio', 'data'],\n",
    "    how='left'\n",
    ")\n",
    "\n",
    "# Merge com predições\n",
    "df = df.merge(\n",
    "    predicoes_df[['municipio', 'data_predicao', 'risco', 'score']],\n",
    "    left_on=['municipio', 'data'],\n",
    "    right_on=['municipio', 'data_predicao'],\n",
    "    how='left'\n",
    ")\n",
    "\n",
    "df.drop('data_predicao', axis=1, inplace=True)\n",
    "df.head()\n"
   ]
  },
  {
   "cell_type": "markdown",
   "metadata": {},
   "source": [
    "## Análise Exploratória\n",
    "\n",
    "Aqui você pode seguir com análise estatística, visualizações, gráficos de evolução temporal, mapas, etc.\n"
   ]
  },
  {
   "cell_type": "code",
   "execution_count": null,
   "metadata": {},
   "outputs": [],
   "source": [
    "import matplotlib.pyplot as plt\n",
    "import seaborn as sns\n",
    "\n",
    "# Exemplo: evolução dos casos de malária\n",
    "malaria_por_data = malaria_df.groupby('data')['casos'].sum()\n",
    "plt.figure(figsize=(10,4))\n",
    "malaria_por_data.plot()\n",
    "plt.title('Evolução dos casos de malária')\n",
    "plt.xlabel('Data')\n",
    "plt.ylabel('Casos')\n",
    "plt.show()\n"
   ]
  },
  {
   "cell_type": "markdown",
   "metadata": {},
   "source": [
    "## Observações finais\n",
    "\n",
    "- Este notebook está alinhado com o fluxo real da aplicação.\n",
    "- Sempre leia os dados diretamente do banco para garantir atualização.\n",
    "- Para análises espaciais, use as colunas de latitude/longitude se disponíveis nas tabelas.\n",
    "- Para modelagem ML, siga a integração dos dados já mostrada.\n"
   ]
  }
 ],
 "metadata": {
  "kernelspec": {
   "display_name": "Python 3",
   "language": "python",
   "name": "python3"
  },
  "language_info": {
   "name": "python",
   "version": "3.12"
  }
 },
 "nbformat": 4,
 "nbformat_minor": 2
}
